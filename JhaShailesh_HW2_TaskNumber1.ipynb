{
 "cells": [
  {
   "cell_type": "code",
   "execution_count": 1,
   "metadata": {},
   "outputs": [
    {
     "name": "stdout",
     "output_type": "stream",
     "text": [
      "Data : (1000, 14)\n",
      "<class 'pandas.core.frame.DataFrame'>\n",
      "RangeIndex: 1000 entries, 0 to 999\n",
      "Data columns (total 14 columns):\n",
      "Attr 0     1000 non-null object\n",
      "Attr 1     1000 non-null object\n",
      "Attr 2     1000 non-null object\n",
      "Attr 3     1000 non-null object\n",
      "Attr 4     1000 non-null float64\n",
      "Attr 5     1000 non-null float64\n",
      "Attr 6     1000 non-null float64\n",
      "Attr 7     1000 non-null float64\n",
      "Attr 8     1000 non-null float64\n",
      "Attr 9     1000 non-null float64\n",
      "Attr 10    1000 non-null float64\n",
      "Attr 11    1000 non-null float64\n",
      "Attr 12    1000 non-null float64\n",
      "Labels     1000 non-null object\n",
      "dtypes: float64(9), object(5)\n",
      "memory usage: 109.5+ KB\n"
     ]
    }
   ],
   "source": [
    "import numpy as np\n",
    "import pandas as pd\n",
    "Data = pd.read_csv(\"dataPreP.csv\")\n",
    "print(\"Data : \" + str(Data.shape))\n",
    "Data.info()\n",
    "Quantitative_scales = Data.select_dtypes(include=[np.number])\n",
    "Quantitative_scales.columns\n",
    "Quantitative_scales.to_csv(\"Quantitative.csv\")"
   ]
  },
  {
   "cell_type": "code",
   "execution_count": 3,
   "metadata": {},
   "outputs": [],
   "source": [
    "Other_scales = Data.select_dtypes(include=[np.object])\n",
    "Other_scales.columns\n",
    "Other_scales.to_csv(\"Others.csv\")"
   ]
  }
 ],
 "metadata": {
  "kernelspec": {
   "display_name": "Python 3",
   "language": "python",
   "name": "python3"
  },
  "language_info": {
   "codemirror_mode": {
    "name": "ipython",
    "version": 3
   },
   "file_extension": ".py",
   "mimetype": "text/x-python",
   "name": "python",
   "nbconvert_exporter": "python",
   "pygments_lexer": "ipython3",
   "version": "3.6.5"
  }
 },
 "nbformat": 4,
 "nbformat_minor": 2
}
